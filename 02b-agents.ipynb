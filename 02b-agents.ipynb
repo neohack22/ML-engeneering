{
  "cells": [
    {
      "cell_type": "markdown",
      "metadata": {
        "id": "view-in-github",
        "colab_type": "text"
      },
      "source": [
        "<a href=\"https://colab.research.google.com/github/neohack22/ML-engineering/blob/master/02b-agents.ipynb\" target=\"_parent\"><img src=\"https://colab.research.google.com/assets/colab-badge.svg\" alt=\"Open In Colab\"/></a>"
      ]
    },
    {
      "cell_type": "markdown",
      "metadata": {
        "pycharm": {
          "name": "#%% md\n"
        },
        "id": "oxraw0VoFU3m"
      },
      "source": [
        "# Agents for Amazon Bedrock - create agent\n",
        "\n",
        "This notebook provides sample code for building an Agent for Amazon Bedrock that has an Action Group attached to it.\n",
        "\n",
        "### Use Case\n",
        "We will create a assistant that can help you as any chatbot, but with a plus, you will be able to get weather for a City !\n",
        "\n",
        "### Notebook Walk-through\n",
        "\n",
        "In this notebook we will:\n",
        "- Create a lambda function that get weather\n",
        "- Create an agent\n",
        "- Create an action group and associate it with the agent\n",
        "- Test the agent invocation\n"
      ]
    },
    {
      "cell_type": "markdown",
      "metadata": {
        "pycharm": {
          "name": "#%% md\n"
        },
        "id": "djwF3Ce3FU3p"
      },
      "source": [
        "### Pre-requisites\n",
        "This notebook requires permissions to:\n",
        "- create and delete Amazon IAM roles\n",
        "- create lambda functions\n",
        "- access Amazon Bedrock\n",
        "\n",
        "If running on SageMaker Studio, you should add the following managed policies to your role:\n",
        "- IAMFullAccess\n",
        "- AWSLambda_FullAccess\n",
        "- AmazonBedrockFullAccess\n"
      ]
    },
    {
      "cell_type": "markdown",
      "metadata": {
        "pycharm": {
          "name": "#%% md\n"
        },
        "id": "mgDBDdvYFU3q"
      },
      "source": [
        "## Setup\n",
        "Before running the rest of this notebook, you'll need to run the cells below to ensure necessary libraries loaded"
      ]
    },
    {
      "cell_type": "markdown",
      "metadata": {
        "pycharm": {
          "name": "#%% md\n"
        },
        "id": "uwGJtXnfFU3r"
      },
      "source": [
        "Let's now import the necessary libraries and initiate the required boto3 clients"
      ]
    },
    {
      "cell_type": "code",
      "execution_count": null,
      "metadata": {
        "pycharm": {
          "name": "#%%\n"
        },
        "id": "a5h65ca7FU3r"
      },
      "outputs": [],
      "source": [
        "import time\n",
        "import boto3\n",
        "import logging\n",
        "import uuid\n",
        "\n",
        "from utils.agent import create_agent_role, create_lambda_role\n",
        "from utils.agent import create_lambda, invoke_agent_helper"
      ]
    },
    {
      "cell_type": "markdown",
      "source": [
        "### Explication des importations\n",
        "\n",
        "1. **Bibliothèques standard** :\n",
        "   - `import time` : Cette bibliothèque fournit des fonctions pour travailler avec le temps. Elle peut être utilisée pour faire des pauses dans l'exécution d'un programme ou pour obtenir l'heure actuelle.\n",
        "   - `import logging` : Cette bibliothèque permet de générer des messages de log pour le débogage et le suivi des événements dans votre application.\n",
        "   - `import uuid` : Cette bibliothèque est utilisée pour générer des identifiants uniques. Elle est souvent utilisée pour créer des clés ou des identifiants pour les objets dans une application.\n",
        "\n",
        "2. **Bibliothèque Boto3** :\n",
        "   - `import boto3` : Boto3 est le SDK (Software Development Kit) d'Amazon Web Services (AWS) pour Python. Il permet d'interagir avec les services AWS, tels que S3, EC2, Lambda, etc.\n",
        "\n",
        "3. **Modules personnalisés** :\n",
        "   - `from utils.agent import create_agent_role, create_lambda_role` : Ici, deux fonctions `create_agent_role` et `create_lambda_role` sont importées depuis un module local `utils.agent`. Ces fonctions sont probablement utilisées pour créer des rôles AWS spécifiques pour des agents ou des fonctions Lambda.\n",
        "   - `from utils.agent import create_lambda, invoke_agent_helper` : De même, ces deux fonctions `create_lambda` et `invoke_agent_helper` sont également importées. `create_lambda` peut être utilisée pour déployer une fonction Lambda, tandis que `invoke_agent_helper` pourrait être utilisée pour invoquer un agent qui aide à exécuter certaines tâches.\n",
        "\n",
        "### Exemple de code\n",
        "\n",
        "Voici le code structuré en utilisant la syntaxe markdown :\n",
        "\n",
        "```python\n",
        "import time\n",
        "import boto3\n",
        "import logging\n",
        "import uuid\n",
        "\n",
        "from utils.agent import create_agent_role, create_lambda_role\n",
        "from utils.agent import create_lambda, invoke_agent_helper\n",
        "```\n",
        "\n",
        "### Conclusion\n",
        "\n",
        "Ce code établit les bases nécessaires pour interagir avec AWS et gérer des rôles ainsi que des fonctions Lambda, tout en utilisant des outils de journalisation et de gestion du temps."
      ],
      "metadata": {
        "id": "FE9QckB-Fhtd"
      }
    },
    {
      "cell_type": "code",
      "execution_count": null,
      "metadata": {
        "id": "p6Ezg_LQFU3s"
      },
      "outputs": [],
      "source": [
        "session = boto3.session.Session()"
      ]
    },
    {
      "cell_type": "code",
      "execution_count": null,
      "metadata": {
        "pycharm": {
          "name": "#%%\n"
        },
        "id": "tA3ciCFQFU3t"
      },
      "outputs": [],
      "source": [
        "#Clients\n",
        "s3_client = session.client('s3',)\n",
        "sts_client = session.client('sts',)\n",
        "region = session.region_name\n"
      ]
    },
    {
      "cell_type": "code",
      "execution_count": null,
      "metadata": {
        "id": "SA2fZdWSFU3t"
      },
      "outputs": [],
      "source": [
        "account_id = sts_client.get_caller_identity()[\"Account\"]\n",
        "bedrock_agent_client = session.client('bedrock-agent',)\n",
        "bedrock_agent_runtime_client = session.client('bedrock-agent-runtime',)\n",
        "logging.basicConfig(format='[%(asctime)s] p%(process)s {%(filename)s:%(lineno)d} %(levelname)s - %(message)s', level=logging.INFO)\n",
        "logger = logging.getLogger(__name__)\n",
        "region, account_id"
      ]
    },
    {
      "cell_type": "markdown",
      "source": [
        "Le code que vous avez partagé inclut des appels à des clients AWS et à la configuration du journalage. Voici une explication détaillée de chaque ligne et de son usage.\n",
        "\n",
        "### Explication du code\n",
        "\n",
        "1. **Récupération de l'identité de l'appelant** :\n",
        "   ```python\n",
        "   account_id = sts_client.get_caller_identity()[\"Account\"]\n",
        "   ```\n",
        "   - Cette ligne utilise le client STS (Security Token Service) pour obtenir l'identité de l'appelant. La méthode `get_caller_identity` retourne un dictionnaire contenant des informations sur l'identité de l'appelant, y compris l'ID du compte AWS. On extrait ensuite l'ID du compte en utilisant `[\"Account\"]`.\n",
        "\n",
        "2. **Création de clients pour le service Bedrock** :\n",
        "   ```python\n",
        "   bedrock_agent_client = session.client('bedrock-agent')\n",
        "   bedrock_agent_runtime_client = session.client('bedrock-agent-runtime')\n",
        "   ```\n",
        "   - Ces lignes créent deux clients pour interagir avec les services Bedrock d'AWS. `bedrock-agent` et `bedrock-agent-runtime` sont des services spécifiques fournis par AWS, et les clients permettent de faire des appels à ces services.\n",
        "\n",
        "3. **Configuration du journalage** :\n",
        "   ```python\n",
        "   logging.basicConfig(format='[%(asctime)s] p%(process)s {%(filename)s:%(lineno)d} %(levelname)s - %(message)s', level=logging.INFO)\n",
        "   logger = logging.getLogger(__name__)\n",
        "   ```\n",
        "   - Ici, la configuration de base du journalage est mise en place. Le format spécifie comment les messages de log seront affichés, incluant la date et l'heure, le numéro de processus, le nom du fichier et le niveau de log.\n",
        "   - `logger = logging.getLogger(__name__)` crée un logger spécifique pour le module actuel, permettant de générer des messages de log qui peuvent être filtrés ou redirigés en fonction de leur provenance.\n",
        "\n",
        "4. **Variables région et ID de compte** :\n",
        "   ```python\n",
        "   region, account_id\n",
        "   ```\n",
        "   - Cette ligne semble incomplète car elle ne fait rien de concret avec les variables `region` et `account_id`. Il serait probablement nécessaire d'utiliser ces variables pour des opérations ultérieures, par exemple, en les affichant ou en les utilisant dans des appels à des services AWS.\n",
        "\n",
        "### Exemple de code\n",
        "\n",
        "Voici le code structuré en utilisant la syntaxe markdown :\n",
        "\n",
        "```python\n",
        "account_id = sts_client.get_caller_identity()[\"Account\"]\n",
        "bedrock_agent_client = session.client('bedrock-agent')\n",
        "bedrock_agent_runtime_client = session.client('bedrock-agent-runtime')\n",
        "logging.basicConfig(format='[%(asctime)s] p%(process)s {%(filename)s:%(lineno)d} %(levelname)s - %(message)s', level=logging.INFO)\n",
        "logger = logging.getLogger(__name__)\n",
        "region, account_id\n",
        "```\n",
        "\n",
        "### Conclusion\n",
        "\n",
        "Ce code établit une connexion aux services AWS, configure le journalage pour le débogage et la surveillance, et récupère des informations sur le compte actuel. Si vous avez des questions supplémentaires ou si vous souhaitez explorer un aspect particulier de ce code, n'hésitez pas à demander !"
      ],
      "metadata": {
        "id": "8uq8ogvZFwpV"
      }
    },
    {
      "cell_type": "markdown",
      "metadata": {
        "pycharm": {
          "name": "#%% md\n"
        },
        "id": "6OQHxizMFU3u"
      },
      "source": [
        "### Setting up Agent's information\n",
        "\n",
        "We will now set the variables that define our agent:\n",
        "\n",
        "- **agent_name**: provides the name of the agent to be created\n",
        "- **agent_description**: the description of the agent used to display the agents list on the console. This description is **not** part of the agent's prompts\n",
        "- **agent_instruction**: the instructions of what the agent **should** and **should not** do. This description is part of the agent's prompt and is used during the agent's invocation\n",
        "- **agent_action_group_name**: the action group name used on the definition of the agent's action.\n",
        "- **agent_action_group_description:**: the description of the action group name used on the UI to list the action groups. This description is **not** used by the agent's prompts"
      ]
    },
    {
      "cell_type": "code",
      "execution_count": null,
      "metadata": {
        "pycharm": {
          "name": "#%%\n"
        },
        "id": "WW9m7ZjoFU3u"
      },
      "outputs": [],
      "source": [
        "suffix = f\"{region}-{account_id}\"\n",
        "agent_name = \"weather-agent\"\n",
        "agent_bedrock_allow_policy_name = f\"{agent_name}\"\n",
        "agent_role_name = f\"AmazonBedrockExecutionRoleForAgents_{agent_name}\"\n",
        "\n",
        "agent_description = \"This agent provides weather information for a given city\"\n",
        "agent_instruction = \"\"\"\n",
        "The agent should be capable of providing accurate weather information, including current conditions and forecasts, when prompted.\n",
        "The agent must interpret weather data to give practical advice and answer weather-related queries.\n",
        "However, it's crucial that the agent maintains its ability to engage in a wide range of topics beyond weather.\n",
        "It should seamlessly switch between weather information and other subjects, using context to determine the nature of each query.\n",
        "Above all, the agent should remember that while it's capable of providing weather information, this is just one of its many functions, and it should always be prepared to engage with any topic or task presented by the user.\n",
        "\"\"\"\n",
        "\n",
        "agent_action_group_description = \"\"\"\n",
        "This agent provides weather information for a given city.\n",
        "\"\"\"\n",
        "\n",
        "agent_action_group_name = \"weather-action-group\""
      ]
    },
    {
      "cell_type": "markdown",
      "metadata": {
        "pycharm": {
          "name": "#%% md\n"
        },
        "id": "PwOOz6kLFU3v"
      },
      "source": [
        "### Select Foundation Model\n",
        "You can find more information about the supported foundation models [here](https://docs.aws.amazon.com/bedrock/latest/userguide/agents-supported.html)"
      ]
    },
    {
      "cell_type": "code",
      "execution_count": null,
      "metadata": {
        "pycharm": {
          "name": "#%%\n"
        },
        "id": "M_rDZs-8FU3v"
      },
      "outputs": [],
      "source": [
        "agent_foundation_model = \"anthropic.claude-3-haiku-20240307-v1:0\""
      ]
    },
    {
      "cell_type": "markdown",
      "metadata": {
        "pycharm": {
          "name": "#%% md\n"
        },
        "id": "IzO9QtcTFU3w"
      },
      "source": [
        "### Creating Lambda Function\n",
        "\n",
        "Next we will create the [AWS Lambda](https://aws.amazon.com/lambda/) function that executes the actions for our agent. This lambda function will have 1 action:\n",
        "* ```get_weather(city)```: returns the weather for the city\n",
        "\n",
        "\n",
        "The `lambda_handler` receives the `event` from the agent and the `event` contains information about the `function` to be executed and its `parameters`.\n",
        "\n",
        "A `functionResponse` is returned by the lambda function with the response body having a `TEXT` field.\n",
        "\n",
        "You can find more information on how to set your agent lambda function [here](https://docs.aws.amazon.com/bedrock/latest/userguide/agents-lambda.html).\n",
        "\n",
        "Let's first write the code of the lambda function to the `lambda_function.py` file"
      ]
    },
    {
      "cell_type": "code",
      "execution_count": null,
      "metadata": {
        "pycharm": {
          "name": "#%%\n"
        },
        "id": "cm28kcqrFU3w"
      },
      "outputs": [],
      "source": [
        "lambda_function_name = f'{agent_name}-lambda'"
      ]
    },
    {
      "cell_type": "code",
      "execution_count": null,
      "metadata": {
        "pycharm": {
          "name": "#%%\n"
        },
        "id": "VfP6UZNMFU3w"
      },
      "outputs": [],
      "source": [
        "%%writefile annex/agent/lambda_function.py\n",
        "import json\n",
        "import uuid\n",
        "import boto3\n",
        "import urllib.request\n",
        "from urllib.parse import quote\n",
        "\n",
        "\n",
        "def lambda_handler(event, _):\n",
        "    \"\"\"\n",
        "    This function gets the weather information for a given city\n",
        "    \"\"\"\n",
        "\n",
        "    # Extract info from the event\n",
        "    actionGroup = event.get('actionGroup', '')\n",
        "    function = event.get('function', '')\n",
        "    city = event['parameters'][0]['value']\n",
        "    encoded_city = quote(city)\n",
        "\n",
        "    # Get the location data based on the city\n",
        "    url = f'https://geocoding-api.open-meteo.com/v1/search?name={encoded_city}&count=1&language=en&format=json'\n",
        "    with urllib.request.urlopen(url) as response:\n",
        "        location_data = json.loads(response.read().decode())\n",
        "        if not location_data['results']:\n",
        "            return {\"error\": \"City not found\"}\n",
        "\n",
        "        lat = location_data['results'][0]['latitude']\n",
        "        lon = location_data['results'][0]['longitude']\n",
        "\n",
        "    # Get the weather data based on the location\n",
        "    weather_url = f'https://api.open-meteo.com/v1/forecast?latitude={lat}&longitude={lon}&current=temperature_2m,relative_humidity_2m,weather_code,wind_speed_10m&daily=weather_code,temperature_2m_max,temperature_2m_min&timezone=auto'\n",
        "    with urllib.request.urlopen(weather_url) as response:\n",
        "        weather_data = json.loads(response.read().decode())\n",
        "\n",
        "    current = weather_data['current']\n",
        "    daily = weather_data['daily']\n",
        "\n",
        "    # Prepare the response\n",
        "    weather_codes = {\n",
        "        0: \"Clear sky\", 1: \"Mainly clear\", 2: \"Partly cloudy\", 3: \"Overcast\",\n",
        "        45: \"Fog\", 48: \"Depositing rime fog\",\n",
        "        51: \"Light drizzle\", 53: \"Moderate drizzle\", 55: \"Dense drizzle\",\n",
        "        61: \"Slight rain\", 63: \"Moderate rain\", 65: \"Heavy rain\",\n",
        "        71: \"Slight snow fall\", 73: \"Moderate snow fall\", 75: \"Heavy snow fall\",\n",
        "        77: \"Snow grains\", 80: \"Slight rain showers\", 81: \"Moderate rain showers\",\n",
        "        82: \"Violent rain showers\", 85: \"Slight snow showers\", 86: \"Heavy snow showers\",\n",
        "        95: \"Thunderstorm\", 96: \"Thunderstorm with slight hail\", 99: \"Thunderstorm with heavy hail\"\n",
        "    }\n",
        "    response_core =  {\n",
        "        'temperature': current['temperature_2m'],\n",
        "        'condition': weather_codes.get(current['weather_code'], \"Unknown\"),\n",
        "        'humidity': current['relative_humidity_2m'],\n",
        "        'wind_speed': current['wind_speed_10m'],\n",
        "        'forecast_max': daily['temperature_2m_max'][0],\n",
        "        'forecast_min': daily['temperature_2m_min'][0],\n",
        "        'forecast_condition': weather_codes.get(daily['weather_code'][0], \"Unknown\")\n",
        "    }\n",
        "\n",
        "    responseBody = {'TEXT': {'body': json.dumps(response_core)}}\n",
        "    action_response = {\n",
        "        'actionGroup': actionGroup,\n",
        "        'function': function,\n",
        "        'functionResponse': {\n",
        "            'responseBody': responseBody\n",
        "        }\n",
        "    }\n",
        "    function_response = {'response': action_response, 'messageVersion': event['messageVersion']}\n",
        "\n",
        "    return function_response\n",
        "\n",
        ""
      ]
    },
    {
      "cell_type": "markdown",
      "source": [
        "Le code que vous avez partagé est une fonction Lambda AWS qui récupère des informations météorologiques pour une ville donnée. Voici une explication détaillée de chaque partie du code.\n",
        "\n",
        "### Explication du code\n",
        "\n",
        "1. **Importations** :\n",
        "   ```python\n",
        "   import json\n",
        "   import uuid\n",
        "   import boto3\n",
        "   import urllib.request\n",
        "   from urllib.parse import quote\n",
        "   ```\n",
        "   - Ces lignes importent les bibliothèques nécessaires pour manipuler les données JSON, générer des UUID, interagir avec AWS, et faire des requêtes HTTP.\n",
        "\n",
        "2. **Définition de la fonction `lambda_handler`** :\n",
        "   ```python\n",
        "   def lambda_handler(event, _):\n",
        "   ```\n",
        "   - C'est le point d'entrée de la fonction Lambda. Elle prend en entrée un événement (généralement un dictionnaire) et un contexte (non utilisé ici).\n",
        "\n",
        "3. **Extraction des informations de l'événement** :\n",
        "   ```python\n",
        "   actionGroup = event.get('actionGroup', '')\n",
        "   function = event.get('function', '')\n",
        "   city = event['parameters'][0]['value']\n",
        "   encoded_city = quote(city)\n",
        "   ```\n",
        "   - Cette section extrait le groupe d'actions, la fonction, et le nom de la ville à partir de l'événement. La ville est ensuite encodée pour être utilisée dans une URL.\n",
        "\n",
        "4. **Obtenir les données de localisation** :\n",
        "   ```python\n",
        "   url = f'https://geocoding-api.open-meteo.com/v1/search?name={encoded_city}&count=1&language=en&format=json'\n",
        "   with urllib.request.urlopen(url) as response:\n",
        "       location_data = json.loads(response.read().decode())\n",
        "       if not location_data['results']:\n",
        "           return {\"error\": \"City not found\"}\n",
        "       \n",
        "       lat = location_data['results'][0]['latitude']\n",
        "       lon = location_data['results'][0]['longitude']\n",
        "   ```\n",
        "   - Une requête est faite à l'API de géocodage pour obtenir les coordonnées (latitude et longitude) de la ville spécifiée. Si la ville n'est pas trouvée, un message d'erreur est retourné.\n",
        "\n",
        "5. **Obtenir les données météorologiques** :\n",
        "   ```python\n",
        "   weather_url = f'https://api.open-meteo.com/v1/forecast?latitude={lat}&longitude={lon}&current=temperature_2m,relative_humidity_2m,weather_code,wind_speed_10m&daily=weather_code,temperature_2m_max,temperature_2m_min&timezone=auto'\n",
        "   with urllib.request.urlopen(weather_url) as response:\n",
        "       weather_data = json.loads(response.read().decode())\n",
        "   ```\n",
        "   - Une seconde requête est faite à l'API météorologique pour récupérer les informations météo en utilisant les coordonnées obtenues.\n",
        "\n",
        "6. **Préparation de la réponse** :\n",
        "   ```python\n",
        "   weather_codes = {\n",
        "       0: \"Clear sky\", 1: \"Mainly clear\", 2: \"Partly cloudy\", 3: \"Overcast\",\n",
        "       45: \"Fog\", 48: \"Depositing rime fog\",\n",
        "       51: \"Light drizzle\", 53: \"Moderate drizzle\", 55: \"Dense drizzle\",\n",
        "       61: \"Slight rain\", 63: \"Moderate rain\", 65: \"Heavy rain\",\n",
        "       71: \"Slight snow fall\", 73: \"Moderate snow fall\", 75: \"Heavy snow fall\",\n",
        "       77: \"Snow grains\", 80: \"Slight rain showers\", 81: \"Moderate rain showers\",\n",
        "       82: \"Violent rain showers\", 85: \"Slight snow showers\", 86: \"Heavy snow showers\",\n",
        "       95: \"Thunderstorm\", 96: \"Thunderstorm with slight hail\", 99: \"Thunderstorm with heavy hail\"\n",
        "   }\n",
        "   response_core =  {   \n",
        "       'temperature': current['temperature_2m'],\n",
        "       'condition': weather_codes.get(current['weather_code'], \"Unknown\"),\n",
        "       'humidity': current['relative_humidity_2m'],\n",
        "       'wind_speed': current['wind_speed_10m'],\n",
        "       'forecast_max': daily['temperature_2m_max'][0],\n",
        "       'forecast_min': daily['temperature_2m_min'][0],\n",
        "       'forecast_condition': weather_codes.get(daily['weather_code'][0], \"Unknown\")\n",
        "   }\n",
        "   ```\n",
        "   - Les données météo sont préparées dans un dictionnaire `response_core`, qui inclut la température, l'humidité, la vitesse du vent, ainsi que les conditions météorologiques.\n",
        "\n",
        "7. **Construction de la réponse finale** :\n",
        "   ```python\n",
        "   responseBody = {'TEXT': {'body': json.dumps(response_core)}}\n",
        "   action_response = {\n",
        "       'actionGroup': actionGroup,\n",
        "       'function': function,\n",
        "       'functionResponse': {\n",
        "           'responseBody': responseBody\n",
        "       }\n",
        "   }\n",
        "   function_response = {'response': action_response, 'messageVersion': event['messageVersion']}\n",
        "   ```\n",
        "   - La réponse finale est formatée selon la structure attendue, incluant le corps de la réponse et d'autres métadonnées.\n",
        "\n",
        "8. **Retour de la réponse** :\n",
        "   ```python\n",
        "   return function_response\n",
        "   ```\n",
        "   - La fonction retourne la réponse formatée.\n",
        "\n",
        "### Exemple de code\n",
        "\n",
        "Voici le code structuré avec la syntaxe markdown :\n",
        "\n",
        "```python\n",
        "%%writefile annex/agent/lambda_function.py\n",
        "import json\n",
        "import uuid\n",
        "import boto3\n",
        "import urllib.request\n",
        "from urllib.parse import quote\n",
        "\n",
        "def lambda_handler(event, _):\n",
        "    \"\"\"\n",
        "    This function gets the weather information for a given city\n",
        "    \"\"\"\n",
        "\n",
        "    # Extract info from the event\n",
        "    actionGroup = event.get('actionGroup', '')\n",
        "    function = event.get('function', '')\n",
        "    city = event['parameters'][0]['value']\n",
        "    encoded_city = quote(city)\n",
        "\n",
        "    # Get the location data based on the city\n",
        "    url = f'https://geocoding-api.open-meteo.com/v1/search?name={encoded_city}&count=1&language=en&format=json'\n",
        "    with urllib.request.urlopen(url) as response:\n",
        "        location_data = json.loads(response.read().decode())\n",
        "        if not location_data['results']:\n",
        "            return {\"error\": \"City not found\"}\n",
        "        \n",
        "        lat = location_data['results'][0]['latitude']\n",
        "        lon = location_data['results'][0]['longitude']\n",
        "\n",
        "    # Get the weather data based on the location\n",
        "    weather_url = f'https://api.open-meteo.com/v1/forecast?latitude={lat}&longitude={lon}&current=temperature_2m,relative_humidity_2m,weather_code,wind_speed_10m&daily=weather_code,temperature_2m_max,temperature_2m_min&timezone=auto'\n",
        "    with urllib.request.urlopen(weather_url) as response:\n",
        "        weather_data = json.loads(response.read().decode())\n",
        "\n",
        "    current = weather_data['current']\n",
        "    daily = weather_data['daily']\n",
        "\n",
        "    # Prepare the response\n",
        "    weather_codes = {\n",
        "        0: \"Clear sky\", 1: \"Mainly clear\", 2: \"Partly cloudy\", 3: \"Overcast\",\n",
        "        45: \"Fog\", 48: \"Depositing rime fog\",\n",
        "        51: \"Light drizzle\", 53: \"Moderate drizzle\", 55: \"Dense drizzle\",\n",
        "        61: \"Slight rain\", 63: \"Moderate rain\", 65: \"Heavy rain\",\n",
        "        71: \"Slight snow fall\", 73: \"Moderate snow fall\", 75: \"Heavy snow fall\",\n",
        "        77: \"Snow grains\", 80: \"Slight rain showers\", 81: \"Moderate rain showers\",\n",
        "        82: \"Violent rain showers\", 85: \"Slight snow showers\", 86: \"Heavy snow showers\",\n",
        "        95: \"Thunderstorm\", 96: \"Thunderstorm with slight hail\", 99: \"Thunderstorm with heavy hail\"\n",
        "    }\n",
        "    response_core =  {   \n",
        "        'temperature': current['temperature_2m'],\n",
        "        'condition': weather_codes.get(current['weather_code'], \"Unknown\"),\n",
        "        'humidity': current['relative_humidity_2m'],\n",
        "        'wind_speed': current['wind_speed_10m'],\n",
        "        'forecast_max': daily['temperature_2m_max'][0],\n",
        "        'forecast_min': daily['temperature_2m_min'][0],\n",
        "        'forecast_condition': weather_codes.get(daily['weather_code'][0], \"Unknown\")\n",
        "    }\n",
        "\n",
        "    responseBody = {'TEXT': {'body': json.dumps(response_core)}}\n",
        "    action_response = {\n",
        "        'actionGroup': actionGroup,\n",
        "        'function': function,\n",
        "        'functionResponse': {\n",
        "            'responseBody': responseBody\n",
        "        }\n",
        "    }\n",
        "    function_response = {'response': action_response, 'messageVersion': event['messageVersion']}\n",
        "\n",
        "    return function_response\n",
        "```\n",
        "\n",
        "### Conclusion\n",
        "\n",
        "Cette fonction Lambda est bien structurée pour interagir avec des API externes et fournir des informations météorologiques. Si vous avez des questions supplémentaires ou besoin d'aide sur un aspect particulier du code, n'hésitez pas à demander !"
      ],
      "metadata": {
        "id": "xEO5u5x9F7_l"
      }
    },
    {
      "cell_type": "markdown",
      "metadata": {
        "id": "9KpmtYshFU3x"
      },
      "source": [
        "We Create the log group to store the function logs"
      ]
    },
    {
      "cell_type": "code",
      "execution_count": null,
      "metadata": {
        "id": "WKDNWujRFU3x"
      },
      "outputs": [],
      "source": [
        "logs_client = session.client(\"logs\")\n",
        "log_group_name = f\"/aws/lambda/{lambda_function_name}\"\n",
        "\n",
        "# Create the log group\n",
        "# Check if the log group already exists\n",
        "response = logs_client.describe_log_groups(logGroupNamePrefix=log_group_name)\n",
        "if any(group['logGroupName'] == log_group_name for group in response['logGroups']):\n",
        "    logger.info(f\"Log group '{log_group_name}' already exists.\")\n",
        "else:\n",
        "    # If log group does not exist, create it\n",
        "    logs_client.create_log_group(logGroupName=log_group_name)\n",
        "    logger.info(f\"Log group '{log_group_name}' created successfully.\")"
      ]
    },
    {
      "cell_type": "markdown",
      "source": [
        "Le code que vous avez fourni est destiné à interagir avec Amazon CloudWatch Logs pour créer un groupe de journaux (log group) pour une fonction Lambda AWS. Voici une explication détaillée du code :\n",
        "\n",
        "### Explication du code\n",
        "\n",
        "1. **Création du client Logs** :\n",
        "   ```python\n",
        "   logs_client = session.client(\"logs\")\n",
        "   log_group_name = f\"/aws/lambda/{lambda_function_name}\"\n",
        "   ```\n",
        "   - Ici, un client CloudWatch Logs est créé à partir d'une session AWS existante. Le nom du groupe de journaux est construit dynamiquement en utilisant le nom de la fonction Lambda.\n",
        "\n",
        "2. **Vérification de l'existence du groupe de journaux** :\n",
        "   ```python\n",
        "   response = logs_client.describe_log_groups(logGroupNamePrefix=log_group_name)\n",
        "   if any(group['logGroupName'] == log_group_name for group in response['logGroups']):\n",
        "       logger.info(f\"Log group '{log_group_name}' already exists.\")\n",
        "   ```\n",
        "   - Cette partie du code appelle `describe_log_groups` pour récupérer les groupes de journaux qui commencent par le préfixe `log_group_name`. Il vérifie ensuite si le groupe de journaux existe déjà dans la réponse. Si oui, un message est enregistré pour indiquer que le groupe existe déjà.\n",
        "\n",
        "3. **Création du groupe de journaux** :\n",
        "   ```python\n",
        "   else:\n",
        "       logs_client.create_log_group(logGroupName=log_group_name)\n",
        "       logger.info(f\"Log group '{log_group_name}' created successfully.\")\n",
        "   ```\n",
        "   - Si le groupe de journaux n'existe pas, il est créé avec la méthode `create_log_group`. Un message est ensuite enregistré pour indiquer que le groupe de journaux a été créé avec succès.\n",
        "\n",
        "### Exemple de code\n",
        "\n",
        "Voici le code structuré avec la syntaxe markdown :\n",
        "\n",
        "```python\n",
        "logs_client = session.client(\"logs\")\n",
        "log_group_name = f\"/aws/lambda/{lambda_function_name}\"\n",
        "\n",
        "# Create the log group\n",
        "# Check if the log group already exists\n",
        "response = logs_client.describe_log_groups(logGroupNamePrefix=log_group_name)\n",
        "if any(group['logGroupName'] == log_group_name for group in response['logGroups']):\n",
        "    logger.info(f\"Log group '{log_group_name}' already exists.\")\n",
        "else:\n",
        "    # If log group does not exist, create it\n",
        "    logs_client.create_log_group(logGroupName=log_group_name)\n",
        "    logger.info(f\"Log group '{log_group_name}' created successfully.\")\n",
        "```\n",
        "\n",
        "### Conclusion\n",
        "\n",
        "Ce code est un bon exemple de la façon dont on peut interagir avec les services AWS en utilisant le SDK `boto3`. Il vérifie d'abord si un groupe de journaux existe avant de tenter de le créer, ce qui évite des erreurs potentielles. Si vous avez des questions supplémentaires ou si vous souhaitez plus de détails sur un aspect spécifique, n'hésitez pas à demander !Le code que vous avez partagé est un extrait typique d'un script Python utilisé pour interagir avec AWS CloudWatch Logs afin de gérer les groupes de journaux (log groups) associés à une fonction Lambda. Voici une analyse détaillée du fonctionnement de ce code, ainsi que des explications supplémentaires sur son contexte et son utilisation.\n",
        "\n",
        "### Explication du Code\n",
        "\n",
        "1. **Création du Client de Logs** :\n",
        "   ```python\n",
        "   logs_client = session.client(\"logs\")\n",
        "   ```\n",
        "   - Ici, un client pour le service AWS CloudWatch Logs est créé en utilisant une session Boto3. Boto3 est la bibliothèque Python pour interagir avec les services AWS. Cela permet à votre application de faire des appels à l'API CloudWatch Logs pour gérer les groupes de journaux, les flux de journaux (log streams), et d'autres ressources.\n",
        "\n",
        "2. **Nom du Groupe de Journaux** :\n",
        "   ```python\n",
        "   log_group_name = f\"/aws/lambda/{lambda_function_name}\"\n",
        "   ```\n",
        "   - Cette ligne définit le nom du groupe de journaux basé sur le nom de votre fonction Lambda. Les groupes de journaux pour AWS Lambda suivent généralement ce format, où `/aws/lambda/` est le préfixe standard, suivi du nom de la fonction. Cela permet de garder les logs organisés et facilement accessibles.\n",
        "\n",
        "3. **Vérification de l'Existence du Groupe de Journaux** :\n",
        "   ```python\n",
        "   response = logs_client.describe_log_groups(logGroupNamePrefix=log_group_name)\n",
        "   if any(group['logGroupName'] == log_group_name for group in response['logGroups']):\n",
        "       logger.info(f\"Log group '{log_group_name}' already exists.\")\n",
        "   ```\n",
        "   - Ici, le code appelle `describe_log_groups` pour lister les groupes de journaux existants et vérifier si le groupe de journaux que vous essayez de créer existe déjà. Cette approche évite d'essayer de créer un groupe de journaux qui existe déjà, ce qui entraînerait une erreur.\n",
        "\n",
        "4. **Création du Groupe de Journaux** :\n",
        "   ```python\n",
        "   else:\n",
        "       logs_client.create_log_group(logGroupName=log_group_name)\n",
        "       logger.info(f\"Log group '{log_group_name}' created successfully.\")\n",
        "   ```\n",
        "   - Si le groupe de journaux n'existe pas, le code appelle `create_log_group` pour le créer. Ensuite, un message est consigné pour indiquer que le groupe de journaux a été créé avec succès. L'utilisation de `logger.info` permet de garder une trace des événements importants, ce qui est crucial pour le débogage et la maintenance des systèmes en production.\n",
        "\n",
        "### Contexte et Importance\n",
        "\n",
        "Gérer les journaux de manière efficace est essentiel pour toute application déployée dans le cloud. Les logs permettent de suivre l'état de l'application, d'identifier des erreurs, et d'analyser le comportement des utilisateurs. Dans le cas d'AWS Lambda, où les fonctions peuvent être exécutées de manière sporadique ou à la demande, il est crucial de conserver les logs pour chaque invocation.\n",
        "\n",
        "- **Surveillance et Débogage** : En consignant les logs, vous pouvez surveiller les performances de votre fonction Lambda et détecter rapidement les problèmes. Par exemple, si une fonction échoue, les logs peuvent fournir des détails sur l'erreur.\n",
        "\n",
        "- **Conformité et Audit** : Pour de nombreuses entreprises, il est impératif de conserver des traces de l'activité des applications pour des raisons de conformité. Les groupes de journaux dans CloudWatch peuvent être utilisés pour conserver un historique complet des actions effectuées par votre fonction Lambda.\n",
        "\n",
        "- **Optimisation des Coûts** : En gérant judicieusement les groupes de journaux (par exemple, en les créant uniquement lorsque cela est nécessaire), vous pouvez éviter des coûts inutiles associés à la conservation des données dans AWS.\n",
        "\n",
        "### Conclusion\n",
        "\n",
        "Ce code est un bon exemple de la manière dont vous pouvez interagir avec AWS CloudWatch Logs pour créer et gérer des groupes de journaux de manière programmatique. En utilisant Boto3, vous pouvez automatiser la gestion des logs, ce qui est un aspect essentiel pour maintenir des applications cloud robustes et évolutives. Si vous avez des questions spécifiques sur ce code ou sur la gestion des logs en général, n'hésitez pas à demander !"
      ],
      "metadata": {
        "id": "VmXWSMWaGMwd"
      }
    },
    {
      "cell_type": "markdown",
      "metadata": {
        "pycharm": {
          "name": "#%% md\n"
        },
        "id": "cWzMZydEFU3x"
      },
      "source": [
        "Next we create the function requirements for IAM role and policies using the support function `create_lambda_role` and create the lambda using the support function `create_lambda` both from the `agent.py` file"
      ]
    },
    {
      "cell_type": "code",
      "execution_count": null,
      "metadata": {
        "pycharm": {
          "name": "#%%\n"
        },
        "id": "bCsDUnrEFU3x"
      },
      "outputs": [],
      "source": [
        "lambda_iam_role = create_lambda_role(agent_name)"
      ]
    },
    {
      "cell_type": "code",
      "execution_count": null,
      "metadata": {
        "pycharm": {
          "name": "#%%\n"
        },
        "id": "90eW0NMYFU3y"
      },
      "outputs": [],
      "source": [
        "lambda_function = create_lambda(lambda_function_name, lambda_iam_role)"
      ]
    },
    {
      "cell_type": "markdown",
      "metadata": {
        "pycharm": {
          "name": "#%% md\n"
        },
        "id": "nz2xz-bFFU3y"
      },
      "source": [
        "### Creating Agent\n",
        "\n",
        "Now that we have created the lambda function, let's create our Agent.\n",
        "\n",
        "To do so, we first need to create an agent role and its required policies:\n",
        "* Invoke model\n",
        "\n",
        "Let's do so using the `create_agent_role` function from the `agent.py` file."
      ]
    },
    {
      "cell_type": "code",
      "execution_count": null,
      "metadata": {
        "pycharm": {
          "name": "#%%\n"
        },
        "id": "QHuXOcyFFU3y"
      },
      "outputs": [],
      "source": [
        "agent_role = create_agent_role(agent_name, agent_foundation_model)"
      ]
    },
    {
      "cell_type": "markdown",
      "metadata": {
        "pycharm": {
          "name": "#%% md\n"
        },
        "id": "UDl-F_AwFU3y"
      },
      "source": [
        "With the Agent IAM role created, we can now use the boto3 function [`create_agent`](https://boto3.amazonaws.com/v1/documentation/api/latest/reference/services/bedrock-agent/client/create_agent.html) to create our agent.\n",
        "\n",
        "On the agent creation, all you need to provide is the agent name, foundation model and instruction. We will associate an action group to the agent once it has been created"
      ]
    },
    {
      "cell_type": "markdown",
      "metadata": {
        "pycharm": {
          "name": "#%% md\n"
        },
        "id": "GKRKvKmiFU3y"
      },
      "source": [
        "We will retrieve the `agentId`. It will be used to associate the action group to the agent in our next step."
      ]
    },
    {
      "cell_type": "code",
      "execution_count": null,
      "metadata": {
        "pycharm": {
          "name": "#%%\n"
        },
        "id": "FnBTP0ZFFU32"
      },
      "outputs": [],
      "source": [
        "response = bedrock_agent_client.list_agents()\n",
        "agent_id_list = [\n",
        "    agent_summary[\"agentId\"] for agent_summary in response[\"agentSummaries\"] if agent_summary[\"agentName\"] == agent_name\n",
        "]\n",
        "if agent_id_list:\n",
        "    logger.info(f\"Agent {agent_name} already exists, updating it\")\n",
        "    agent_id = agent_id_list[0]\n",
        "    response = bedrock_agent_client.update_agent(\n",
        "        agentId=agent_id_list[0],\n",
        "        agentName=agent_name,\n",
        "        agentResourceRoleArn=agent_role[\"Role\"][\"Arn\"],\n",
        "        description=agent_description,\n",
        "        idleSessionTTLInSeconds=1800,\n",
        "        foundationModel=agent_foundation_model,\n",
        "        instruction=agent_instruction,\n",
        "    )\n",
        "else:\n",
        "    logger.info(f\"Creating agent {agent_name}\")\n",
        "    response = bedrock_agent_client.create_agent(\n",
        "        agentName=agent_name,\n",
        "        agentResourceRoleArn=agent_role['Role']['Arn'],\n",
        "        description=agent_description,\n",
        "        idleSessionTTLInSeconds=1800,\n",
        "        foundationModel=agent_foundation_model,\n",
        "        instruction=agent_instruction,\n",
        "    )\n",
        "    logger.info(f\"Agent {agent_name} created\")\n",
        "    agent_id = response[\"agent\"][\"agentId\"]\n",
        "time.sleep(10)"
      ]
    },
    {
      "cell_type": "markdown",
      "source": [
        "Le code que vous avez partagé concerne la gestion des agents dans un service, probablement lié à AWS Bedrock, qui est utilisé pour créer et gérer des agents basés sur des modèles d'IA. Voici une analyse détaillée et des explications sur le fonctionnement de ce code.\n",
        "\n",
        "### Explication du Code\n",
        "\n",
        "1. **Lister les Agents Existants** :\n",
        "   ```python\n",
        "   response = bedrock_agent_client.list_agents()\n",
        "   ```\n",
        "   - Cette ligne appelle la méthode `list_agents()` pour récupérer une liste d'agents existants. La réponse contient des résumés des agents, qui incluent des détails comme l'ID et le nom de chaque agent.\n",
        "\n",
        "2. **Filtrer les Agents par Nom** :\n",
        "   ```python\n",
        "   agent_id_list = [\n",
        "       agent_summary[\"agentId\"] for agent_summary in response[\"agentSummaries\"] if agent_summary[\"agentName\"] == agent_name\n",
        "   ]\n",
        "   ```\n",
        "   - Ici, une liste `agent_id_list` est créée, qui contient les ID des agents dont le nom correspond à `agent_name`. Cette compréhension de liste permet de filtrer rapidement les agents existants.\n",
        "\n",
        "3. **Mise à Jour ou Création d'un Agent** :\n",
        "   ```python\n",
        "   if agent_id_list:\n",
        "       logger.info(f\"Agent {agent_name} already exists, updating it\")\n",
        "       agent_id = agent_id_list[0]\n",
        "       response = bedrock_agent_client.update_agent(\n",
        "           agentId=agent_id_list[0],\n",
        "           agentName=agent_name,\n",
        "           agentResourceRoleArn=agent_role[\"Role\"][\"Arn\"],\n",
        "           description=agent_description,\n",
        "           idleSessionTTLInSeconds=1800,\n",
        "           foundationModel=agent_foundation_model,\n",
        "           instruction=agent_instruction,\n",
        "       )\n",
        "   else:\n",
        "       logger.info(f\"Creating agent {agent_name}\")\n",
        "       response = bedrock_agent_client.create_agent(\n",
        "           agentName=agent_name,\n",
        "           agentResourceRoleArn=agent_role['Role']['Arn'],\n",
        "           description=agent_description,\n",
        "           idleSessionTTLInSeconds=1800,\n",
        "           foundationModel=agent_foundation_model,\n",
        "           instruction=agent_instruction,\n",
        "       )\n",
        "       logger.info(f\"Agent {agent_name} created\")\n",
        "       agent_id = response[\"agent\"][\"agentId\"]\n",
        "   ```\n",
        "   - Si `agent_id_list` n'est pas vide, cela signifie qu'un agent avec ce nom existe déjà. Le code met alors à jour cet agent en appelant `update_agent()` avec les nouveaux paramètres.\n",
        "   - Si l'agent n'existe pas, il le crée en appelant `create_agent()`, puis enregistre l'ID de l'agent nouvellement créé.\n",
        "\n",
        "4. **Pause** :\n",
        "   ```python\n",
        "   time.sleep(10)\n",
        "   ```\n",
        "   - Cette ligne fait une pause de 10 secondes après l'opération. Cela peut être utile pour s'assurer que l'agent est complètement créé ou mis à jour avant de procéder à d'autres opérations.\n",
        "\n",
        "### Contexte et Importance\n",
        "\n",
        "Ce code est essentiel dans un environnement où des agents intelligents doivent être gérés efficacement. Voici quelques points clés :\n",
        "\n",
        "- **Mise à Jour Dynamique** : La possibilité de mettre à jour un agent existant est cruciale pour gérer des modèles d'IA, qui peuvent nécessiter des ajustements constants basés sur les performances ou les données d'entrée.\n",
        "\n",
        "- **Logique de Création** : La vérification de l'existence d'un agent avant de le créer évite les erreurs et les duplications, ce qui peut entraîner des coûts supplémentaires ou des conflits dans le service.\n",
        "\n",
        "- **Gestion des Rôles** : La gestion des rôles (`agentResourceRoleArn`) permet de s'assurer que l'agent a les autorisations nécessaires pour effectuer ses tâches, ce qui est un aspect clé de la sécurité dans les environnements cloud.\n",
        "\n",
        "### Conclusion\n",
        "\n",
        "Ce code démontre une approche pratique pour gérer des agents dans un service cloud, en utilisant les capacités de l'API d'AWS. En permettant des mises à jour dynamiques et en évitant les duplications, ce type de gestion est essentiel pour maintenir l'efficacité et la flexibilité des systèmes basés sur l'IA. Si vous avez d'autres questions sur ce code ou sur des sujets connexes en Python, n'hésitez pas à demander !"
      ],
      "metadata": {
        "id": "yQucr_J3GVpe"
      }
    },
    {
      "cell_type": "markdown",
      "metadata": {
        "pycharm": {
          "name": "#%% md\n"
        },
        "id": "Jd9J9UtoFU33"
      },
      "source": [
        "#### Create Agent Action Group\n",
        "\n",
        "Now that we have created the agent, let's create an [Action Group](https://docs.aws.amazon.com/bedrock/latest/userguide/agents-action-create.html) and associate with the agent. The action group will allow our agent to get weather. To do so, we will \"inform\" our agent of existing functionalities using a [function schema](https://docs.aws.amazon.com/bedrock/latest/userguide/agents-action-function.html) defined in `JSON` format.\n",
        "\n",
        "The function schema requires the function `name`, `description` and `parameters` to be provided. Each parameter has a parameter name, description, type and a boolean flag indicating if the parameter is required.\n",
        "\n",
        "Let's define the functions `JSON` as `agent_functions`"
      ]
    },
    {
      "cell_type": "code",
      "execution_count": null,
      "metadata": {
        "pycharm": {
          "name": "#%%\n"
        },
        "id": "rW0Ff32NFU33"
      },
      "outputs": [],
      "source": [
        "agent_functions = [\n",
        "    {\n",
        "        'name': 'get_weather',\n",
        "        'description': 'Give the weather for a city',\n",
        "        'parameters': {\n",
        "            \"city\": {\n",
        "                \"description\": \"The city to get the weather for\",\n",
        "                \"required\": True,\n",
        "                \"type\": \"string\"\n",
        "            }\n",
        "        }\n",
        "    },\n",
        "]"
      ]
    },
    {
      "cell_type": "markdown",
      "metadata": {
        "pycharm": {
          "name": "#%% md\n"
        },
        "id": "psEPIx1IFU33"
      },
      "source": [
        "Now we can use the [`create_agent_action_group`](https://boto3.amazonaws.com/v1/documentation/api/latest/reference/services/bedrock-agent/client/create_agent_action_group.html) function from the boto3 SDK to create the action group"
      ]
    },
    {
      "cell_type": "code",
      "execution_count": null,
      "metadata": {
        "pycharm": {
          "name": "#%%\n"
        },
        "id": "sJpIt27dFU34"
      },
      "outputs": [],
      "source": [
        "# Check if the agent action group already exists\n",
        "agent_version = \"DRAFT\"\n",
        "response = bedrock_agent_client.list_agent_action_groups(agentId=agent_id, agentVersion=agent_version)\n",
        "action_group_id_list = [\n",
        "    action_group[\"actionGroupId\"]\n",
        "    for action_group in response[\"actionGroupSummaries\"]\n",
        "    if action_group[\"actionGroupName\"] == agent_action_group_name\n",
        "]\n",
        "\n",
        "# Update or create the agent action group\n",
        "if action_group_id_list:\n",
        "    logger.info(f\"Agent action group {agent_action_group_name} already exists, updating it\")\n",
        "    agent_action_group_id = action_group_id_list[0]\n",
        "    agent_action_group_response = bedrock_agent_client.update_agent_action_group(\n",
        "        agentId=agent_id,\n",
        "        agentVersion=agent_version,\n",
        "        actionGroupExecutor={\"lambda\": lambda_function[\"FunctionArn\"]},\n",
        "        actionGroupName=agent_action_group_name,\n",
        "        functionSchema={\"functions\": agent_functions},\n",
        "        description=agent_action_group_description,\n",
        "        actionGroupId=agent_action_group_id\n",
        "    )\n",
        "else:\n",
        "    logger.info(f\"Creating agent action group {agent_action_group_name}\")\n",
        "    agent_action_group_response = bedrock_agent_client.create_agent_action_group(\n",
        "        agentId=agent_id,\n",
        "        agentVersion=agent_version,\n",
        "        actionGroupExecutor={\"lambda\": lambda_function[\"FunctionArn\"]},\n",
        "        actionGroupName=agent_action_group_name,\n",
        "        functionSchema={\"functions\": agent_functions},\n",
        "        description=agent_action_group_description,\n",
        "    )"
      ]
    },
    {
      "cell_type": "markdown",
      "source": [
        "Le code que vous avez partagé concerne la gestion des groupes d'actions pour un agent dans un environnement utilisant AWS Bedrock. Voici une analyse détaillée et une explication des différentes sections du code.\n",
        "\n",
        "### Explication du Code\n",
        "\n",
        "1. **Vérification de l'Existence du Groupe d'Actions** :\n",
        "   ```python\n",
        "   agent_version = \"DRAFT\"\n",
        "   response = bedrock_agent_client.list_agent_action_groups(agentId=agent_id, agentVersion=agent_version)\n",
        "   action_group_id_list = [\n",
        "       action_group[\"actionGroupId\"]\n",
        "       for action_group in response[\"actionGroupSummaries\"]\n",
        "       if action_group[\"actionGroupName\"] == agent_action_group_name\n",
        "   ]\n",
        "   ```\n",
        "   - Cette partie du code vérifie si un groupe d'actions pour un agent donné existe déjà. La méthode `list_agent_action_groups` récupère tous les groupes d'actions associés à un agent spécifique (identifié par `agent_id`) et sa version (`agent_version`).\n",
        "   - Ensuite, une liste `action_group_id_list` est créée, contenant les identifiants des groupes d'actions dont le nom correspond à `agent_action_group_name`.\n",
        "\n",
        "2. **Mise à Jour ou Création du Groupe d'Actions** :\n",
        "   ```python\n",
        "   if action_group_id_list:\n",
        "       logger.info(f\"Agent action group {agent_action_group_name} already exists, updating it\")\n",
        "       agent_action_group_id = action_group_id_list[0]\n",
        "       agent_action_group_response = bedrock_agent_client.update_agent_action_group(\n",
        "           agentId=agent_id,\n",
        "           agentVersion=agent_version,\n",
        "           actionGroupExecutor={\"lambda\": lambda_function[\"FunctionArn\"]},\n",
        "           actionGroupName=agent_action_group_name,\n",
        "           functionSchema={\"functions\": agent_functions},\n",
        "           description=agent_action_group_description,\n",
        "           actionGroupId=agent_action_group_id\n",
        "       )\n",
        "   else:\n",
        "       logger.info(f\"Creating agent action group {agent_action_group_name}\")\n",
        "       agent_action_group_response = bedrock_agent_client.create_agent_action_group(\n",
        "           agentId=agent_id,\n",
        "           agentVersion=agent_version,\n",
        "           actionGroupExecutor={\"lambda\": lambda_function[\"FunctionArn\"]},\n",
        "           actionGroupName=agent_action_group_name,\n",
        "           functionSchema={\"functions\": agent_functions},\n",
        "           description=agent_action_group_description,\n",
        "       )\n",
        "   ```\n",
        "   - Si la liste `action_group_id_list` n'est pas vide, cela signifie qu'un groupe d'actions avec ce nom existe déjà. Le code met à jour ce groupe en utilisant la méthode `update_agent_action_group`, en fournissant les détails nécessaires tels que le nom, la description, et le schéma des fonctions.\n",
        "   - Si le groupe d'actions n'existe pas, le code crée un nouveau groupe d'actions avec `create_agent_action_group`. Les détails fournis sont similaires à ceux de la mise à jour, mais sans l'identifiant du groupe.\n",
        "\n",
        "### Points Clés\n",
        "\n",
        "- **Gestion des Groupes d'Actions** : Ce code illustre comment gérer les groupes d'actions des agents de manière efficace, en vérifiant d'abord leur existence avant d'effectuer des mises à jour ou des créations. Cela évite les erreurs potentielles et assure que les groupes d'actions sont toujours à jour.\n",
        "\n",
        "- **Utilisation des Services AWS** : Le code utilise des fonctionnalités des services AWS, en particulier les agents et les fonctions Lambda. Cela montre comment les applications peuvent interagir avec les ressources cloud pour créer des solutions dynamiques et évolutives.\n",
        "\n",
        "- **Log des Activités** : L'utilisation de `logger.info` pour enregistrer des messages d'information aide à garder une trace des opérations effectuées, ce qui est important pour le débogage et le suivi des événements dans des systèmes complexes.\n",
        "\n",
        "### Conclusion\n",
        "\n",
        "Ce code est un bon exemple de la façon de gérer les groupes d'actions des agents dans un environnement basé sur le cloud, en s'assurant que les opérations sont exécutées de manière sécurisée et efficace. Si vous avez d'autres questions sur ce code ou d'autres aspects de Python ou d'AWS, n'hésitez pas à les poser !"
      ],
      "metadata": {
        "id": "vHr7j30FGqJu"
      }
    },
    {
      "cell_type": "markdown",
      "metadata": {
        "pycharm": {
          "name": "#%% md\n"
        },
        "id": "9hxMXaLIFU34"
      },
      "source": [
        "#### Allowing bedrock to invoke lambda function\n",
        "\n",
        "The last requirement is to add the [resource-based policy](https://docs.aws.amazon.com/bedrock/latest/userguide/agents-permissions.html#agents-permissions-lambda) to allow bedrock to invoke the action group lambda function."
      ]
    },
    {
      "cell_type": "code",
      "execution_count": null,
      "metadata": {
        "pycharm": {
          "name": "#%%\n"
        },
        "id": "2H1GrSTVFU34"
      },
      "outputs": [],
      "source": [
        "# Create allow to invoke permission on lambda\n",
        "lambda_client = boto3.client('lambda',)\n",
        "try:\n",
        "    response = lambda_client.add_permission(\n",
        "        FunctionName=lambda_function_name,\n",
        "        StatementId=f'allow_bedrock_{agent_id}',\n",
        "        Action='lambda:InvokeFunction',\n",
        "        Principal='bedrock.amazonaws.com',\n",
        "        SourceArn=f\"arn:aws:bedrock:{region}:{account_id}:agent/{agent_id}\",\n",
        "    )\n",
        "    print(response)\n",
        "except lambda_client.exceptions.ResourceConflictException as e:\n",
        "    print(e)"
      ]
    },
    {
      "cell_type": "markdown",
      "source": [
        "Le code que vous avez partagé concerne l'ajout de permissions à une fonction AWS Lambda pour permettre à un service spécifique, ici Bedrock, d'invoquer cette fonction. Voici une analyse détaillée du code :\n",
        "\n",
        "### Explication du Code\n",
        "\n",
        "1. **Création d'un Client Lambda** :\n",
        "   ```python\n",
        "   lambda_client = boto3.client('lambda')\n",
        "   ```\n",
        "   - Cette ligne crée un client pour interagir avec le service AWS Lambda en utilisant la bibliothèque `boto3`, qui est l'interface Python pour AWS.\n",
        "\n",
        "2. **Ajout d'une Permission** :\n",
        "   ```python\n",
        "   try:\n",
        "       response = lambda_client.add_permission(\n",
        "           FunctionName=lambda_function_name,\n",
        "           StatementId=f'allow_bedrock_{agent_id}',\n",
        "           Action='lambda:InvokeFunction',\n",
        "           Principal='bedrock.amazonaws.com',\n",
        "           SourceArn=f\"arn:aws:bedrock:{region}:{account_id}:agent/{agent_id}\",\n",
        "       )\n",
        "       print(response)\n",
        "   ```\n",
        "   - Le bloc `try` est utilisé pour tenter d'ajouter une permission à la fonction Lambda. Voici les paramètres utilisés :\n",
        "     - **FunctionName** : le nom de la fonction Lambda à laquelle la permission est ajoutée (défini par `lambda_function_name`).\n",
        "     - **StatementId** : un identifiant unique pour cette déclaration de permission. Il doit être unique dans le contexte de la fonction.\n",
        "     - **Action** : l'action autorisée, ici `lambda:InvokeFunction`, qui permet d'invoquer la fonction.\n",
        "     - **Principal** : le service ou l'entité à laquelle vous accordez la permission. Dans ce cas, c'est `bedrock.amazonaws.com`.\n",
        "     - **SourceArn** : l'Amazon Resource Name (ARN) qui identifie la ressource autorisée à invoquer la fonction Lambda. Cela inclut des détails tels que la région et l'identifiant du compte AWS.\n",
        "\n",
        "3. **Gestion des Exceptions** :\n",
        "   ```python\n",
        "   except lambda_client.exceptions.ResourceConflictException as e:\n",
        "       print(e)\n",
        "   ```\n",
        "   - Si une exception de type `ResourceConflictException` est levée (par exemple, si la permission existe déjà), le message d'erreur est imprimé.\n",
        "\n",
        "### Points Clés\n",
        "\n",
        "- **Gestion des Permissions** : Le code montre comment gérer les permissions d'invocation pour les fonctions Lambda, ce qui est essentiel pour contrôler l'accès et garantir la sécurité.\n",
        "\n",
        "- **Utilisation de `boto3`** : La bibliothèque `boto3` facilite les interactions avec les services AWS, rendant la gestion des ressources AWS plus intuitive pour les développeurs Python.\n",
        "\n",
        "- **Simplicité et Clarté** : L'utilisation de `try` et `except` permet de gérer les erreurs de manière élégante, ce qui est crucial dans les applications qui interagissent avec des services externes comme AWS.\n",
        "\n",
        "### Conclusion\n",
        "\n",
        "Ce code est un bon exemple de la façon de configurer les permissions d'invocation d'une fonction AWS Lambda pour un service spécifique. Cela permet une intégration fluide avec d'autres services AWS tout en respectant les principes de sécurité."
      ],
      "metadata": {
        "id": "P0Znl1mAGyKk"
      }
    },
    {
      "cell_type": "markdown",
      "metadata": {
        "pycharm": {
          "name": "#%% md\n"
        },
        "id": "OG4qtd_pFU35"
      },
      "source": [
        "#### Preparing agent\n",
        "\n",
        "Before invoking the agent we need to prepare it. Preparing your agent will package all its components, including the security configurations. It will bring the agent into a state where it can be tested in runtime. We will use the [`prepare_agent`](https://boto3.amazonaws.com/v1/documentation/api/latest/reference/services/bedrock-agent/client/prepare_agent.html) function from the boto3 sdk to prepare our agent."
      ]
    },
    {
      "cell_type": "code",
      "execution_count": null,
      "metadata": {
        "pycharm": {
          "name": "#%%\n"
        },
        "id": "egLnkOppFU36"
      },
      "outputs": [],
      "source": [
        "response = bedrock_agent_client.prepare_agent(\n",
        "    agentId=agent_id\n",
        ")\n",
        "print(response)\n",
        "# Pause to make sure agent is prepared\n",
        "time.sleep(20)"
      ]
    },
    {
      "cell_type": "markdown",
      "metadata": {
        "pycharm": {
          "name": "#%% md\n"
        },
        "id": "AEa0X3WOFU37"
      },
      "source": [
        "### Invoking Agent\n",
        "\n",
        "Now that our Agent is ready to be used, let's test it. To do so we will use the [`invoke_agent`](https://boto3.amazonaws.com/v1/documentation/api/latest/reference/services/bedrock-agent-runtime/client/invoke_agent.html) function from the boto3 Bedrock runtime client.\n",
        "\n",
        "To invoke an agent, you have to refer to its alias. You can create a new alias, or you can use the test alias to invoke your `DRAFT` agent. The test alias used to invoke the draft agent is `TSTALIASID` and it will work with any agent.\n",
        "\n",
        "\n",
        "We will use the support function called `invoke_agent_helper` from the `agents.py` support file to allow us to invoke the agent with or without trace enabled and with or without session state. We will getinto more details about those concepts in the `03_invoke_agent.ipynb` notebook."
      ]
    },
    {
      "cell_type": "code",
      "execution_count": null,
      "metadata": {
        "pycharm": {
          "name": "#%%\n"
        },
        "id": "vDIo_i8iFU37"
      },
      "outputs": [],
      "source": [
        "alias_id = \"TSTALIASID\""
      ]
    },
    {
      "cell_type": "markdown",
      "metadata": {
        "id": "UM3KvVoFFU38"
      },
      "source": [
        "ℹ️ We can use session state (not changing `session_id`) to store information about the conversation and use it in the next invocations. This is useful when you want to keep track of the conversation context."
      ]
    },
    {
      "cell_type": "code",
      "execution_count": null,
      "metadata": {
        "pycharm": {
          "name": "#%%\n"
        },
        "id": "alk-rLfYFU38"
      },
      "outputs": [],
      "source": [
        "session_id:str = str(uuid.uuid1())"
      ]
    },
    {
      "cell_type": "code",
      "execution_count": null,
      "metadata": {
        "id": "yIYky8U1FU38"
      },
      "outputs": [],
      "source": [
        "# session_id: str = str(uuid.uuid1())\n",
        "query = \"Quelle est la météo à Paris ?\"\n",
        "response = invoke_agent_helper(query, session_id, agent_id, alias_id, enable_trace=False)\n",
        "print(response)"
      ]
    },
    {
      "cell_type": "code",
      "execution_count": null,
      "metadata": {
        "id": "x3jLy-4uFU39"
      },
      "outputs": [],
      "source": [
        "# session_id: str = str(uuid.uuid1())\n",
        "query = \"Quelle est la météo à ?\"\n",
        "response = invoke_agent_helper(\n",
        "    query, session_id, agent_id, alias_id, enable_trace=True\n",
        ")"
      ]
    },
    {
      "cell_type": "code",
      "execution_count": null,
      "metadata": {
        "id": "EwX0DvqMFU3-"
      },
      "outputs": [],
      "source": [
        "# session_id: str = str(uuid.uuid1())\n",
        "query = \"Qui est Barack Obama ?\"\n",
        "response = invoke_agent_helper(query, session_id, agent_id, alias_id, enable_trace=False)\n",
        "print(response)"
      ]
    }
  ],
  "metadata": {
    "availableInstances": [
      {
        "_defaultOrder": 0,
        "_isFastLaunch": true,
        "category": "General purpose",
        "gpuNum": 0,
        "hideHardwareSpecs": false,
        "memoryGiB": 4,
        "name": "ml.t3.medium",
        "vcpuNum": 2
      },
      {
        "_defaultOrder": 1,
        "_isFastLaunch": false,
        "category": "General purpose",
        "gpuNum": 0,
        "hideHardwareSpecs": false,
        "memoryGiB": 8,
        "name": "ml.t3.large",
        "vcpuNum": 2
      },
      {
        "_defaultOrder": 2,
        "_isFastLaunch": false,
        "category": "General purpose",
        "gpuNum": 0,
        "hideHardwareSpecs": false,
        "memoryGiB": 16,
        "name": "ml.t3.xlarge",
        "vcpuNum": 4
      },
      {
        "_defaultOrder": 3,
        "_isFastLaunch": false,
        "category": "General purpose",
        "gpuNum": 0,
        "hideHardwareSpecs": false,
        "memoryGiB": 32,
        "name": "ml.t3.2xlarge",
        "vcpuNum": 8
      },
      {
        "_defaultOrder": 4,
        "_isFastLaunch": true,
        "category": "General purpose",
        "gpuNum": 0,
        "hideHardwareSpecs": false,
        "memoryGiB": 8,
        "name": "ml.m5.large",
        "vcpuNum": 2
      },
      {
        "_defaultOrder": 5,
        "_isFastLaunch": false,
        "category": "General purpose",
        "gpuNum": 0,
        "hideHardwareSpecs": false,
        "memoryGiB": 16,
        "name": "ml.m5.xlarge",
        "vcpuNum": 4
      },
      {
        "_defaultOrder": 6,
        "_isFastLaunch": false,
        "category": "General purpose",
        "gpuNum": 0,
        "hideHardwareSpecs": false,
        "memoryGiB": 32,
        "name": "ml.m5.2xlarge",
        "vcpuNum": 8
      },
      {
        "_defaultOrder": 7,
        "_isFastLaunch": false,
        "category": "General purpose",
        "gpuNum": 0,
        "hideHardwareSpecs": false,
        "memoryGiB": 64,
        "name": "ml.m5.4xlarge",
        "vcpuNum": 16
      },
      {
        "_defaultOrder": 8,
        "_isFastLaunch": false,
        "category": "General purpose",
        "gpuNum": 0,
        "hideHardwareSpecs": false,
        "memoryGiB": 128,
        "name": "ml.m5.8xlarge",
        "vcpuNum": 32
      },
      {
        "_defaultOrder": 9,
        "_isFastLaunch": false,
        "category": "General purpose",
        "gpuNum": 0,
        "hideHardwareSpecs": false,
        "memoryGiB": 192,
        "name": "ml.m5.12xlarge",
        "vcpuNum": 48
      },
      {
        "_defaultOrder": 10,
        "_isFastLaunch": false,
        "category": "General purpose",
        "gpuNum": 0,
        "hideHardwareSpecs": false,
        "memoryGiB": 256,
        "name": "ml.m5.16xlarge",
        "vcpuNum": 64
      },
      {
        "_defaultOrder": 11,
        "_isFastLaunch": false,
        "category": "General purpose",
        "gpuNum": 0,
        "hideHardwareSpecs": false,
        "memoryGiB": 384,
        "name": "ml.m5.24xlarge",
        "vcpuNum": 96
      },
      {
        "_defaultOrder": 12,
        "_isFastLaunch": false,
        "category": "General purpose",
        "gpuNum": 0,
        "hideHardwareSpecs": false,
        "memoryGiB": 8,
        "name": "ml.m5d.large",
        "vcpuNum": 2
      },
      {
        "_defaultOrder": 13,
        "_isFastLaunch": false,
        "category": "General purpose",
        "gpuNum": 0,
        "hideHardwareSpecs": false,
        "memoryGiB": 16,
        "name": "ml.m5d.xlarge",
        "vcpuNum": 4
      },
      {
        "_defaultOrder": 14,
        "_isFastLaunch": false,
        "category": "General purpose",
        "gpuNum": 0,
        "hideHardwareSpecs": false,
        "memoryGiB": 32,
        "name": "ml.m5d.2xlarge",
        "vcpuNum": 8
      },
      {
        "_defaultOrder": 15,
        "_isFastLaunch": false,
        "category": "General purpose",
        "gpuNum": 0,
        "hideHardwareSpecs": false,
        "memoryGiB": 64,
        "name": "ml.m5d.4xlarge",
        "vcpuNum": 16
      },
      {
        "_defaultOrder": 16,
        "_isFastLaunch": false,
        "category": "General purpose",
        "gpuNum": 0,
        "hideHardwareSpecs": false,
        "memoryGiB": 128,
        "name": "ml.m5d.8xlarge",
        "vcpuNum": 32
      },
      {
        "_defaultOrder": 17,
        "_isFastLaunch": false,
        "category": "General purpose",
        "gpuNum": 0,
        "hideHardwareSpecs": false,
        "memoryGiB": 192,
        "name": "ml.m5d.12xlarge",
        "vcpuNum": 48
      },
      {
        "_defaultOrder": 18,
        "_isFastLaunch": false,
        "category": "General purpose",
        "gpuNum": 0,
        "hideHardwareSpecs": false,
        "memoryGiB": 256,
        "name": "ml.m5d.16xlarge",
        "vcpuNum": 64
      },
      {
        "_defaultOrder": 19,
        "_isFastLaunch": false,
        "category": "General purpose",
        "gpuNum": 0,
        "hideHardwareSpecs": false,
        "memoryGiB": 384,
        "name": "ml.m5d.24xlarge",
        "vcpuNum": 96
      },
      {
        "_defaultOrder": 20,
        "_isFastLaunch": false,
        "category": "General purpose",
        "gpuNum": 0,
        "hideHardwareSpecs": true,
        "memoryGiB": 0,
        "name": "ml.geospatial.interactive",
        "supportedImageNames": [
          "sagemaker-geospatial-v1-0"
        ],
        "vcpuNum": 0
      },
      {
        "_defaultOrder": 21,
        "_isFastLaunch": true,
        "category": "Compute optimized",
        "gpuNum": 0,
        "hideHardwareSpecs": false,
        "memoryGiB": 4,
        "name": "ml.c5.large",
        "vcpuNum": 2
      },
      {
        "_defaultOrder": 22,
        "_isFastLaunch": false,
        "category": "Compute optimized",
        "gpuNum": 0,
        "hideHardwareSpecs": false,
        "memoryGiB": 8,
        "name": "ml.c5.xlarge",
        "vcpuNum": 4
      },
      {
        "_defaultOrder": 23,
        "_isFastLaunch": false,
        "category": "Compute optimized",
        "gpuNum": 0,
        "hideHardwareSpecs": false,
        "memoryGiB": 16,
        "name": "ml.c5.2xlarge",
        "vcpuNum": 8
      },
      {
        "_defaultOrder": 24,
        "_isFastLaunch": false,
        "category": "Compute optimized",
        "gpuNum": 0,
        "hideHardwareSpecs": false,
        "memoryGiB": 32,
        "name": "ml.c5.4xlarge",
        "vcpuNum": 16
      },
      {
        "_defaultOrder": 25,
        "_isFastLaunch": false,
        "category": "Compute optimized",
        "gpuNum": 0,
        "hideHardwareSpecs": false,
        "memoryGiB": 72,
        "name": "ml.c5.9xlarge",
        "vcpuNum": 36
      },
      {
        "_defaultOrder": 26,
        "_isFastLaunch": false,
        "category": "Compute optimized",
        "gpuNum": 0,
        "hideHardwareSpecs": false,
        "memoryGiB": 96,
        "name": "ml.c5.12xlarge",
        "vcpuNum": 48
      },
      {
        "_defaultOrder": 27,
        "_isFastLaunch": false,
        "category": "Compute optimized",
        "gpuNum": 0,
        "hideHardwareSpecs": false,
        "memoryGiB": 144,
        "name": "ml.c5.18xlarge",
        "vcpuNum": 72
      },
      {
        "_defaultOrder": 28,
        "_isFastLaunch": false,
        "category": "Compute optimized",
        "gpuNum": 0,
        "hideHardwareSpecs": false,
        "memoryGiB": 192,
        "name": "ml.c5.24xlarge",
        "vcpuNum": 96
      },
      {
        "_defaultOrder": 29,
        "_isFastLaunch": true,
        "category": "Accelerated computing",
        "gpuNum": 1,
        "hideHardwareSpecs": false,
        "memoryGiB": 16,
        "name": "ml.g4dn.xlarge",
        "vcpuNum": 4
      },
      {
        "_defaultOrder": 30,
        "_isFastLaunch": false,
        "category": "Accelerated computing",
        "gpuNum": 1,
        "hideHardwareSpecs": false,
        "memoryGiB": 32,
        "name": "ml.g4dn.2xlarge",
        "vcpuNum": 8
      },
      {
        "_defaultOrder": 31,
        "_isFastLaunch": false,
        "category": "Accelerated computing",
        "gpuNum": 1,
        "hideHardwareSpecs": false,
        "memoryGiB": 64,
        "name": "ml.g4dn.4xlarge",
        "vcpuNum": 16
      },
      {
        "_defaultOrder": 32,
        "_isFastLaunch": false,
        "category": "Accelerated computing",
        "gpuNum": 1,
        "hideHardwareSpecs": false,
        "memoryGiB": 128,
        "name": "ml.g4dn.8xlarge",
        "vcpuNum": 32
      },
      {
        "_defaultOrder": 33,
        "_isFastLaunch": false,
        "category": "Accelerated computing",
        "gpuNum": 4,
        "hideHardwareSpecs": false,
        "memoryGiB": 192,
        "name": "ml.g4dn.12xlarge",
        "vcpuNum": 48
      },
      {
        "_defaultOrder": 34,
        "_isFastLaunch": false,
        "category": "Accelerated computing",
        "gpuNum": 1,
        "hideHardwareSpecs": false,
        "memoryGiB": 256,
        "name": "ml.g4dn.16xlarge",
        "vcpuNum": 64
      },
      {
        "_defaultOrder": 35,
        "_isFastLaunch": false,
        "category": "Accelerated computing",
        "gpuNum": 1,
        "hideHardwareSpecs": false,
        "memoryGiB": 61,
        "name": "ml.p3.2xlarge",
        "vcpuNum": 8
      },
      {
        "_defaultOrder": 36,
        "_isFastLaunch": false,
        "category": "Accelerated computing",
        "gpuNum": 4,
        "hideHardwareSpecs": false,
        "memoryGiB": 244,
        "name": "ml.p3.8xlarge",
        "vcpuNum": 32
      },
      {
        "_defaultOrder": 37,
        "_isFastLaunch": false,
        "category": "Accelerated computing",
        "gpuNum": 8,
        "hideHardwareSpecs": false,
        "memoryGiB": 488,
        "name": "ml.p3.16xlarge",
        "vcpuNum": 64
      },
      {
        "_defaultOrder": 38,
        "_isFastLaunch": false,
        "category": "Accelerated computing",
        "gpuNum": 8,
        "hideHardwareSpecs": false,
        "memoryGiB": 768,
        "name": "ml.p3dn.24xlarge",
        "vcpuNum": 96
      },
      {
        "_defaultOrder": 39,
        "_isFastLaunch": false,
        "category": "Memory Optimized",
        "gpuNum": 0,
        "hideHardwareSpecs": false,
        "memoryGiB": 16,
        "name": "ml.r5.large",
        "vcpuNum": 2
      },
      {
        "_defaultOrder": 40,
        "_isFastLaunch": false,
        "category": "Memory Optimized",
        "gpuNum": 0,
        "hideHardwareSpecs": false,
        "memoryGiB": 32,
        "name": "ml.r5.xlarge",
        "vcpuNum": 4
      },
      {
        "_defaultOrder": 41,
        "_isFastLaunch": false,
        "category": "Memory Optimized",
        "gpuNum": 0,
        "hideHardwareSpecs": false,
        "memoryGiB": 64,
        "name": "ml.r5.2xlarge",
        "vcpuNum": 8
      },
      {
        "_defaultOrder": 42,
        "_isFastLaunch": false,
        "category": "Memory Optimized",
        "gpuNum": 0,
        "hideHardwareSpecs": false,
        "memoryGiB": 128,
        "name": "ml.r5.4xlarge",
        "vcpuNum": 16
      },
      {
        "_defaultOrder": 43,
        "_isFastLaunch": false,
        "category": "Memory Optimized",
        "gpuNum": 0,
        "hideHardwareSpecs": false,
        "memoryGiB": 256,
        "name": "ml.r5.8xlarge",
        "vcpuNum": 32
      },
      {
        "_defaultOrder": 44,
        "_isFastLaunch": false,
        "category": "Memory Optimized",
        "gpuNum": 0,
        "hideHardwareSpecs": false,
        "memoryGiB": 384,
        "name": "ml.r5.12xlarge",
        "vcpuNum": 48
      },
      {
        "_defaultOrder": 45,
        "_isFastLaunch": false,
        "category": "Memory Optimized",
        "gpuNum": 0,
        "hideHardwareSpecs": false,
        "memoryGiB": 512,
        "name": "ml.r5.16xlarge",
        "vcpuNum": 64
      },
      {
        "_defaultOrder": 46,
        "_isFastLaunch": false,
        "category": "Memory Optimized",
        "gpuNum": 0,
        "hideHardwareSpecs": false,
        "memoryGiB": 768,
        "name": "ml.r5.24xlarge",
        "vcpuNum": 96
      },
      {
        "_defaultOrder": 47,
        "_isFastLaunch": false,
        "category": "Accelerated computing",
        "gpuNum": 1,
        "hideHardwareSpecs": false,
        "memoryGiB": 16,
        "name": "ml.g5.xlarge",
        "vcpuNum": 4
      },
      {
        "_defaultOrder": 48,
        "_isFastLaunch": false,
        "category": "Accelerated computing",
        "gpuNum": 1,
        "hideHardwareSpecs": false,
        "memoryGiB": 32,
        "name": "ml.g5.2xlarge",
        "vcpuNum": 8
      },
      {
        "_defaultOrder": 49,
        "_isFastLaunch": false,
        "category": "Accelerated computing",
        "gpuNum": 1,
        "hideHardwareSpecs": false,
        "memoryGiB": 64,
        "name": "ml.g5.4xlarge",
        "vcpuNum": 16
      },
      {
        "_defaultOrder": 50,
        "_isFastLaunch": false,
        "category": "Accelerated computing",
        "gpuNum": 1,
        "hideHardwareSpecs": false,
        "memoryGiB": 128,
        "name": "ml.g5.8xlarge",
        "vcpuNum": 32
      },
      {
        "_defaultOrder": 51,
        "_isFastLaunch": false,
        "category": "Accelerated computing",
        "gpuNum": 1,
        "hideHardwareSpecs": false,
        "memoryGiB": 256,
        "name": "ml.g5.16xlarge",
        "vcpuNum": 64
      },
      {
        "_defaultOrder": 52,
        "_isFastLaunch": false,
        "category": "Accelerated computing",
        "gpuNum": 4,
        "hideHardwareSpecs": false,
        "memoryGiB": 192,
        "name": "ml.g5.12xlarge",
        "vcpuNum": 48
      },
      {
        "_defaultOrder": 53,
        "_isFastLaunch": false,
        "category": "Accelerated computing",
        "gpuNum": 4,
        "hideHardwareSpecs": false,
        "memoryGiB": 384,
        "name": "ml.g5.24xlarge",
        "vcpuNum": 96
      },
      {
        "_defaultOrder": 54,
        "_isFastLaunch": false,
        "category": "Accelerated computing",
        "gpuNum": 8,
        "hideHardwareSpecs": false,
        "memoryGiB": 768,
        "name": "ml.g5.48xlarge",
        "vcpuNum": 192
      },
      {
        "_defaultOrder": 55,
        "_isFastLaunch": false,
        "category": "Accelerated computing",
        "gpuNum": 8,
        "hideHardwareSpecs": false,
        "memoryGiB": 1152,
        "name": "ml.p4d.24xlarge",
        "vcpuNum": 96
      },
      {
        "_defaultOrder": 56,
        "_isFastLaunch": false,
        "category": "Accelerated computing",
        "gpuNum": 8,
        "hideHardwareSpecs": false,
        "memoryGiB": 1152,
        "name": "ml.p4de.24xlarge",
        "vcpuNum": 96
      },
      {
        "_defaultOrder": 57,
        "_isFastLaunch": false,
        "category": "Accelerated computing",
        "gpuNum": 0,
        "hideHardwareSpecs": false,
        "memoryGiB": 32,
        "name": "ml.trn1.2xlarge",
        "vcpuNum": 8
      },
      {
        "_defaultOrder": 58,
        "_isFastLaunch": false,
        "category": "Accelerated computing",
        "gpuNum": 0,
        "hideHardwareSpecs": false,
        "memoryGiB": 512,
        "name": "ml.trn1.32xlarge",
        "vcpuNum": 128
      },
      {
        "_defaultOrder": 59,
        "_isFastLaunch": false,
        "category": "Accelerated computing",
        "gpuNum": 0,
        "hideHardwareSpecs": false,
        "memoryGiB": 512,
        "name": "ml.trn1n.32xlarge",
        "vcpuNum": 128
      }
    ],
    "instance_type": "ml.t3.medium",
    "kernelspec": {
      "display_name": "langchain_testing",
      "language": "python",
      "name": "python3"
    },
    "language_info": {
      "codemirror_mode": {
        "name": "ipython",
        "version": 3
      },
      "file_extension": ".py",
      "mimetype": "text/x-python",
      "name": "python",
      "nbconvert_exporter": "python",
      "pygments_lexer": "ipython3",
      "version": "3.11.4"
    },
    "colab": {
      "provenance": [],
      "include_colab_link": true
    }
  },
  "nbformat": 4,
  "nbformat_minor": 0
}